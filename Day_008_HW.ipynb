{
 "cells": [
  {
   "cell_type": "code",
   "execution_count": 1,
   "metadata": {},
   "outputs": [],
   "source": [
    "import os\n",
    "import numpy as np\n",
    "import pandas as pd\n",
    "import matplotlib.pyplot as plt\n",
    "%matplotlib inline\n",
    "f=open('data/application_train.csv')\n",
    "app_train = pd.read_csv(f)"
   ]
  },
  {
   "cell_type": "code",
   "execution_count": 36,
   "metadata": {},
   "outputs": [
    {
     "data": {
      "text/plain": [
       "CNT_CHILDREN\n",
       "0     215371\n",
       "1      61119\n",
       "2      26749\n",
       "3       3717\n",
       "4        429\n",
       "5         84\n",
       "6         21\n",
       "7          7\n",
       "8          2\n",
       "9          2\n",
       "10         2\n",
       "11         1\n",
       "12         2\n",
       "14         3\n",
       "19         2\n",
       "dtype: int64"
      ]
     },
     "execution_count": 36,
     "metadata": {},
     "output_type": "execute_result"
    }
   ],
   "source": [
    "app_train.groupby(\"CNT_CHILDREN\").size()"
   ]
  },
  {
   "cell_type": "code",
   "execution_count": 38,
   "metadata": {},
   "outputs": [],
   "source": [
    "max0=app_train['CNT_CHILDREN'].max()"
   ]
  },
  {
   "cell_type": "code",
   "execution_count": 53,
   "metadata": {},
   "outputs": [],
   "source": [
    "app_train['CNT_CHILDREN_GROUP'] =pd.cut(app_train['CNT_CHILDREN'].values,[-1,0,2,5,max0],include_lowest=False )"
   ]
  },
  {
   "cell_type": "code",
   "execution_count": 122,
   "metadata": {},
   "outputs": [
    {
     "data": {
      "text/plain": [
       "(-1, 0]    215371\n",
       "(0, 2]      87868\n",
       "(2, 5]       4230\n",
       "(5, 19]        42\n",
       "Name: CNT_CHILDREN_GROUP, dtype: int64"
      ]
     },
     "execution_count": 122,
     "metadata": {},
     "output_type": "execute_result"
    }
   ],
   "source": [
    "app_train['CNT_CHILDREN_GROUP'].value_counts()"
   ]
  },
  {
   "cell_type": "code",
   "execution_count": 117,
   "metadata": {},
   "outputs": [
    {
     "data": {
      "text/plain": [
       "0         CNT_CHILDREN_GROUP:(-1, 0],TARGET:1\n",
       "1         CNT_CHILDREN_GROUP:(-1, 0],TARGET:0\n",
       "2         CNT_CHILDREN_GROUP:(-1, 0],TARGET:0\n",
       "3         CNT_CHILDREN_GROUP:(-1, 0],TARGET:0\n",
       "4         CNT_CHILDREN_GROUP:(-1, 0],TARGET:0\n",
       "5         CNT_CHILDREN_GROUP:(-1, 0],TARGET:0\n",
       "6          CNT_CHILDREN_GROUP:(0, 2],TARGET:0\n",
       "7         CNT_CHILDREN_GROUP:(-1, 0],TARGET:0\n",
       "8         CNT_CHILDREN_GROUP:(-1, 0],TARGET:0\n",
       "9         CNT_CHILDREN_GROUP:(-1, 0],TARGET:0\n",
       "10         CNT_CHILDREN_GROUP:(0, 2],TARGET:0\n",
       "11        CNT_CHILDREN_GROUP:(-1, 0],TARGET:0\n",
       "12        CNT_CHILDREN_GROUP:(-1, 0],TARGET:0\n",
       "13         CNT_CHILDREN_GROUP:(0, 2],TARGET:0\n",
       "14        CNT_CHILDREN_GROUP:(-1, 0],TARGET:0\n",
       "15        CNT_CHILDREN_GROUP:(-1, 0],TARGET:0\n",
       "16        CNT_CHILDREN_GROUP:(-1, 0],TARGET:0\n",
       "17         CNT_CHILDREN_GROUP:(0, 2],TARGET:0\n",
       "18        CNT_CHILDREN_GROUP:(-1, 0],TARGET:0\n",
       "19         CNT_CHILDREN_GROUP:(0, 2],TARGET:0\n",
       "20        CNT_CHILDREN_GROUP:(-1, 0],TARGET:0\n",
       "21         CNT_CHILDREN_GROUP:(0, 2],TARGET:0\n",
       "22         CNT_CHILDREN_GROUP:(0, 2],TARGET:0\n",
       "23        CNT_CHILDREN_GROUP:(-1, 0],TARGET:0\n",
       "24         CNT_CHILDREN_GROUP:(0, 2],TARGET:0\n",
       "25        CNT_CHILDREN_GROUP:(-1, 0],TARGET:0\n",
       "26        CNT_CHILDREN_GROUP:(-1, 0],TARGET:1\n",
       "27         CNT_CHILDREN_GROUP:(0, 2],TARGET:0\n",
       "28        CNT_CHILDREN_GROUP:(-1, 0],TARGET:0\n",
       "29        CNT_CHILDREN_GROUP:(-1, 0],TARGET:0\n",
       "                         ...                 \n",
       "307481    CNT_CHILDREN_GROUP:(-1, 0],TARGET:1\n",
       "307482    CNT_CHILDREN_GROUP:(-1, 0],TARGET:0\n",
       "307483    CNT_CHILDREN_GROUP:(-1, 0],TARGET:0\n",
       "307484    CNT_CHILDREN_GROUP:(-1, 0],TARGET:0\n",
       "307485     CNT_CHILDREN_GROUP:(0, 2],TARGET:0\n",
       "307486     CNT_CHILDREN_GROUP:(0, 2],TARGET:0\n",
       "307487    CNT_CHILDREN_GROUP:(-1, 0],TARGET:0\n",
       "307488    CNT_CHILDREN_GROUP:(-1, 0],TARGET:0\n",
       "307489    CNT_CHILDREN_GROUP:(-1, 0],TARGET:1\n",
       "307490    CNT_CHILDREN_GROUP:(-1, 0],TARGET:0\n",
       "307491     CNT_CHILDREN_GROUP:(0, 2],TARGET:0\n",
       "307492    CNT_CHILDREN_GROUP:(-1, 0],TARGET:0\n",
       "307493    CNT_CHILDREN_GROUP:(-1, 0],TARGET:0\n",
       "307494     CNT_CHILDREN_GROUP:(0, 2],TARGET:0\n",
       "307495    CNT_CHILDREN_GROUP:(-1, 0],TARGET:0\n",
       "307496    CNT_CHILDREN_GROUP:(-1, 0],TARGET:0\n",
       "307497    CNT_CHILDREN_GROUP:(-1, 0],TARGET:0\n",
       "307498    CNT_CHILDREN_GROUP:(-1, 0],TARGET:0\n",
       "307499    CNT_CHILDREN_GROUP:(-1, 0],TARGET:0\n",
       "307500    CNT_CHILDREN_GROUP:(-1, 0],TARGET:0\n",
       "307501     CNT_CHILDREN_GROUP:(2, 5],TARGET:0\n",
       "307502     CNT_CHILDREN_GROUP:(0, 2],TARGET:0\n",
       "307503    CNT_CHILDREN_GROUP:(-1, 0],TARGET:0\n",
       "307504    CNT_CHILDREN_GROUP:(-1, 0],TARGET:0\n",
       "307505    CNT_CHILDREN_GROUP:(-1, 0],TARGET:0\n",
       "307506    CNT_CHILDREN_GROUP:(-1, 0],TARGET:0\n",
       "307507    CNT_CHILDREN_GROUP:(-1, 0],TARGET:0\n",
       "307508    CNT_CHILDREN_GROUP:(-1, 0],TARGET:0\n",
       "307509    CNT_CHILDREN_GROUP:(-1, 0],TARGET:1\n",
       "307510    CNT_CHILDREN_GROUP:(-1, 0],TARGET:0\n",
       "Length: 307511, dtype: object"
      ]
     },
     "execution_count": 117,
     "metadata": {},
     "output_type": "execute_result"
    }
   ],
   "source": [
    "grp='CNT_CHILDREN_GROUP:' + app_train['CNT_CHILDREN_GROUP'].astype(str)+ ',TARGET:' + app_train['TARGET'].astype(str)\n",
    "grp"
   ]
  },
  {
   "cell_type": "code",
   "execution_count": 69,
   "metadata": {},
   "outputs": [],
   "source": [
    "grouped_df = app_train.groupby(grp)['AMT_INCOME_TOTAL']"
   ]
  },
  {
   "cell_type": "code",
   "execution_count": 124,
   "metadata": {},
   "outputs": [
    {
     "data": {
      "text/html": [
       "<div>\n",
       "<style scoped>\n",
       "    .dataframe tbody tr th:only-of-type {\n",
       "        vertical-align: middle;\n",
       "    }\n",
       "\n",
       "    .dataframe tbody tr th {\n",
       "        vertical-align: top;\n",
       "    }\n",
       "\n",
       "    .dataframe thead th {\n",
       "        text-align: right;\n",
       "    }\n",
       "</style>\n",
       "<table border=\"1\" class=\"dataframe\">\n",
       "  <thead>\n",
       "    <tr style=\"text-align: right;\">\n",
       "      <th></th>\n",
       "      <th>count</th>\n",
       "      <th>mean</th>\n",
       "      <th>std</th>\n",
       "      <th>min</th>\n",
       "      <th>25%</th>\n",
       "      <th>50%</th>\n",
       "      <th>75%</th>\n",
       "      <th>max</th>\n",
       "    </tr>\n",
       "  </thead>\n",
       "  <tbody>\n",
       "    <tr>\n",
       "      <th>CNT_CHILDREN_GROUP:(-1, 0],TARGET:0</th>\n",
       "      <td>198762.0</td>\n",
       "      <td>166747.010980</td>\n",
       "      <td>1.061799e+05</td>\n",
       "      <td>25650.0</td>\n",
       "      <td>112500.0</td>\n",
       "      <td>144000.0</td>\n",
       "      <td>202500.0</td>\n",
       "      <td>13500000.0</td>\n",
       "    </tr>\n",
       "    <tr>\n",
       "      <th>CNT_CHILDREN_GROUP:(-1, 0],TARGET:1</th>\n",
       "      <td>16609.0</td>\n",
       "      <td>160804.210548</td>\n",
       "      <td>8.483011e+04</td>\n",
       "      <td>25650.0</td>\n",
       "      <td>112500.0</td>\n",
       "      <td>135000.0</td>\n",
       "      <td>202500.0</td>\n",
       "      <td>1890000.0</td>\n",
       "    </tr>\n",
       "    <tr>\n",
       "      <th>CNT_CHILDREN_GROUP:(0, 2],TARGET:0</th>\n",
       "      <td>80081.0</td>\n",
       "      <td>174590.584401</td>\n",
       "      <td>1.201981e+05</td>\n",
       "      <td>26550.0</td>\n",
       "      <td>112500.0</td>\n",
       "      <td>157500.0</td>\n",
       "      <td>211500.0</td>\n",
       "      <td>18000090.0</td>\n",
       "    </tr>\n",
       "    <tr>\n",
       "      <th>CNT_CHILDREN_GROUP:(0, 2],TARGET:1</th>\n",
       "      <td>7787.0</td>\n",
       "      <td>176115.362720</td>\n",
       "      <td>1.327159e+06</td>\n",
       "      <td>27900.0</td>\n",
       "      <td>112500.0</td>\n",
       "      <td>135000.0</td>\n",
       "      <td>202500.0</td>\n",
       "      <td>117000000.0</td>\n",
       "    </tr>\n",
       "    <tr>\n",
       "      <th>CNT_CHILDREN_GROUP:(2, 5],TARGET:0</th>\n",
       "      <td>3810.0</td>\n",
       "      <td>175053.742913</td>\n",
       "      <td>1.128427e+05</td>\n",
       "      <td>29250.0</td>\n",
       "      <td>112500.0</td>\n",
       "      <td>157500.0</td>\n",
       "      <td>202500.0</td>\n",
       "      <td>2250000.0</td>\n",
       "    </tr>\n",
       "    <tr>\n",
       "      <th>CNT_CHILDREN_GROUP:(2, 5],TARGET:1</th>\n",
       "      <td>420.0</td>\n",
       "      <td>160677.385714</td>\n",
       "      <td>1.130315e+05</td>\n",
       "      <td>36000.0</td>\n",
       "      <td>96750.0</td>\n",
       "      <td>135000.0</td>\n",
       "      <td>185625.0</td>\n",
       "      <td>1350000.0</td>\n",
       "    </tr>\n",
       "    <tr>\n",
       "      <th>CNT_CHILDREN_GROUP:(5, 19],TARGET:0</th>\n",
       "      <td>33.0</td>\n",
       "      <td>139159.090909</td>\n",
       "      <td>7.112483e+04</td>\n",
       "      <td>45000.0</td>\n",
       "      <td>90000.0</td>\n",
       "      <td>112500.0</td>\n",
       "      <td>180000.0</td>\n",
       "      <td>337500.0</td>\n",
       "    </tr>\n",
       "    <tr>\n",
       "      <th>CNT_CHILDREN_GROUP:(5, 19],TARGET:1</th>\n",
       "      <td>9.0</td>\n",
       "      <td>180000.000000</td>\n",
       "      <td>7.377118e+04</td>\n",
       "      <td>90000.0</td>\n",
       "      <td>135000.0</td>\n",
       "      <td>180000.0</td>\n",
       "      <td>202500.0</td>\n",
       "      <td>315000.0</td>\n",
       "    </tr>\n",
       "  </tbody>\n",
       "</table>\n",
       "</div>"
      ],
      "text/plain": [
       "                                        count           mean           std  \\\n",
       "CNT_CHILDREN_GROUP:(-1, 0],TARGET:0  198762.0  166747.010980  1.061799e+05   \n",
       "CNT_CHILDREN_GROUP:(-1, 0],TARGET:1   16609.0  160804.210548  8.483011e+04   \n",
       "CNT_CHILDREN_GROUP:(0, 2],TARGET:0    80081.0  174590.584401  1.201981e+05   \n",
       "CNT_CHILDREN_GROUP:(0, 2],TARGET:1     7787.0  176115.362720  1.327159e+06   \n",
       "CNT_CHILDREN_GROUP:(2, 5],TARGET:0     3810.0  175053.742913  1.128427e+05   \n",
       "CNT_CHILDREN_GROUP:(2, 5],TARGET:1      420.0  160677.385714  1.130315e+05   \n",
       "CNT_CHILDREN_GROUP:(5, 19],TARGET:0      33.0  139159.090909  7.112483e+04   \n",
       "CNT_CHILDREN_GROUP:(5, 19],TARGET:1       9.0  180000.000000  7.377118e+04   \n",
       "\n",
       "                                         min       25%       50%       75%  \\\n",
       "CNT_CHILDREN_GROUP:(-1, 0],TARGET:0  25650.0  112500.0  144000.0  202500.0   \n",
       "CNT_CHILDREN_GROUP:(-1, 0],TARGET:1  25650.0  112500.0  135000.0  202500.0   \n",
       "CNT_CHILDREN_GROUP:(0, 2],TARGET:0   26550.0  112500.0  157500.0  211500.0   \n",
       "CNT_CHILDREN_GROUP:(0, 2],TARGET:1   27900.0  112500.0  135000.0  202500.0   \n",
       "CNT_CHILDREN_GROUP:(2, 5],TARGET:0   29250.0  112500.0  157500.0  202500.0   \n",
       "CNT_CHILDREN_GROUP:(2, 5],TARGET:1   36000.0   96750.0  135000.0  185625.0   \n",
       "CNT_CHILDREN_GROUP:(5, 19],TARGET:0  45000.0   90000.0  112500.0  180000.0   \n",
       "CNT_CHILDREN_GROUP:(5, 19],TARGET:1  90000.0  135000.0  180000.0  202500.0   \n",
       "\n",
       "                                             max  \n",
       "CNT_CHILDREN_GROUP:(-1, 0],TARGET:0   13500000.0  \n",
       "CNT_CHILDREN_GROUP:(-1, 0],TARGET:1    1890000.0  \n",
       "CNT_CHILDREN_GROUP:(0, 2],TARGET:0    18000090.0  \n",
       "CNT_CHILDREN_GROUP:(0, 2],TARGET:1   117000000.0  \n",
       "CNT_CHILDREN_GROUP:(2, 5],TARGET:0     2250000.0  \n",
       "CNT_CHILDREN_GROUP:(2, 5],TARGET:1     1350000.0  \n",
       "CNT_CHILDREN_GROUP:(5, 19],TARGET:0     337500.0  \n",
       "CNT_CHILDREN_GROUP:(5, 19],TARGET:1     315000.0  "
      ]
     },
     "execution_count": 124,
     "metadata": {},
     "output_type": "execute_result"
    }
   ],
   "source": [
    "grouped_df.describe()"
   ]
  },
  {
   "cell_type": "code",
   "execution_count": 112,
   "metadata": {},
   "outputs": [
    {
     "data": {
      "text/plain": [
       "0         AxesSubplot(0.1,0.15;0.363636x0.75)\n",
       "1    AxesSubplot(0.536364,0.15;0.363636x0.75)\n",
       "dtype: object"
      ]
     },
     "execution_count": 112,
     "metadata": {},
     "output_type": "execute_result"
    },
    {
     "data": {
      "image/png": "[encoded data removed]",
      "text/plain": [
       "<Figure size 864x864 with 2 Axes>"
      ]
     },
     "metadata": {
      "needs_background": "light"
     },
     "output_type": "display_data"
    }
   ],
   "source": [
    "plt_column = 'AMT_INCOME_TOTAL'\n",
    "plt_by = 'CNT_CHILDREN_GROUP'\n",
    "\n",
    "app_train.groupby('TARGET').boxplot(column=plt_column,  by = plt_by, showfliers = False, figsize=(12,12))\n",
    "#app_train.groupby('TARGET').boxplot(column=plt_column, by = plt_by, showfliers = False, figsize=(12,12))"
   ]
  },
  {
   "cell_type": "code",
   "execution_count": 130,
   "metadata": {},
   "outputs": [
    {
     "data": {
      "text/html": [
       "<div>\n",
       "<style scoped>\n",
       "    .dataframe tbody tr th:only-of-type {\n",
       "        vertical-align: middle;\n",
       "    }\n",
       "\n",
       "    .dataframe tbody tr th {\n",
       "        vertical-align: top;\n",
       "    }\n",
       "\n",
       "    .dataframe thead th {\n",
       "        text-align: right;\n",
       "    }\n",
       "</style>\n",
       "<table border=\"1\" class=\"dataframe\">\n",
       "  <thead>\n",
       "    <tr style=\"text-align: right;\">\n",
       "      <th></th>\n",
       "      <th>AMT_INCOME_TOTAL</th>\n",
       "      <th>AMT_INCOME_TOTAL_Z_BY_CHILDREN_GRP-TARGET</th>\n",
       "    </tr>\n",
       "  </thead>\n",
       "  <tbody>\n",
       "    <tr>\n",
       "      <th>0</th>\n",
       "      <td>202500.0</td>\n",
       "      <td>0.491536</td>\n",
       "    </tr>\n",
       "    <tr>\n",
       "      <th>1</th>\n",
       "      <td>270000.0</td>\n",
       "      <td>0.972437</td>\n",
       "    </tr>\n",
       "    <tr>\n",
       "      <th>2</th>\n",
       "      <td>67500.0</td>\n",
       "      <td>-0.934708</td>\n",
       "    </tr>\n",
       "    <tr>\n",
       "      <th>3</th>\n",
       "      <td>135000.0</td>\n",
       "      <td>-0.298993</td>\n",
       "    </tr>\n",
       "    <tr>\n",
       "      <th>4</th>\n",
       "      <td>121500.0</td>\n",
       "      <td>-0.426136</td>\n",
       "    </tr>\n",
       "  </tbody>\n",
       "</table>\n",
       "</div>"
      ],
      "text/plain": [
       "   AMT_INCOME_TOTAL  AMT_INCOME_TOTAL_Z_BY_CHILDREN_GRP-TARGET\n",
       "0          202500.0                                   0.491536\n",
       "1          270000.0                                   0.972437\n",
       "2           67500.0                                  -0.934708\n",
       "3          135000.0                                  -0.298993\n",
       "4          121500.0                                  -0.426136"
      ]
     },
     "execution_count": 130,
     "metadata": {},
     "output_type": "execute_result"
    }
   ],
   "source": [
    "tmp=grouped_df.apply(lambda x: (x - np.mean(x) ) / ( np.std(x) ))\n",
    "app_train['AMT_INCOME_TOTAL_Z_BY_CHILDREN_GRP-TARGET']=tmp\n",
    "app_train[['AMT_INCOME_TOTAL','AMT_INCOME_TOTAL_Z_BY_CHILDREN_GRP-TARGET']].head()"
   ]
  },
  {
   "cell_type": "code",
   "execution_count": 134,
   "metadata": {},
   "outputs": [
    {
     "data": {
      "text/plain": [
       "0         0.491536\n",
       "1         0.972437\n",
       "2        -0.934708\n",
       "3        -0.298993\n",
       "4        -0.426136\n",
       "5        -0.638041\n",
       "6        -0.029872\n",
       "7         1.820057\n",
       "8        -0.510898\n",
       "9        -0.298993\n",
       "10       -0.516572\n",
       "11       -1.208592\n",
       "12       -0.934708\n",
       "13        0.419389\n",
       "14        0.209579\n",
       "15       -0.087088\n",
       "16       -0.553279\n",
       "17       -0.778641\n",
       "18       -0.510898\n",
       "19       -0.703764\n",
       "20       -0.298993\n",
       "21        0.232197\n",
       "22        2.291309\n",
       "23       -0.786375\n",
       "24       -0.329380\n",
       "25       -0.722803\n",
       "26       -0.569440\n",
       "27       -0.516572\n",
       "28        0.972437\n",
       "29       -0.722803\n",
       "            ...   \n",
       "307481    0.756780\n",
       "307482    0.548627\n",
       "307483   -0.638041\n",
       "307484    3.515297\n",
       "307485    0.793773\n",
       "307486    0.980965\n",
       "307487   -0.468517\n",
       "307488   -0.087088\n",
       "307489    0.756780\n",
       "307490   -0.807565\n",
       "307491   -0.703764\n",
       "307492    3.939107\n",
       "307493   -0.298993\n",
       "307494    0.793773\n",
       "307495    0.124817\n",
       "307496    1.820057\n",
       "307497    0.124817\n",
       "307498    0.294341\n",
       "307499   -0.807565\n",
       "307500    0.887675\n",
       "307501   -0.833604\n",
       "307502   -0.666325\n",
       "307503   -0.510898\n",
       "307504   -0.129469\n",
       "307505   -0.510898\n",
       "307506   -0.087088\n",
       "307507   -0.892327\n",
       "307508   -0.129469\n",
       "307509    0.120194\n",
       "307510   -0.087088\n",
       "Name: AMT_INCOME_TOTAL_Z_BY_CHILDREN_GRP-TARGET, Length: 307511, dtype: float64"
      ]
     },
     "execution_count": 134,
     "metadata": {},
     "output_type": "execute_result"
    }
   ],
   "source": [
    "app_train['AMT_INCOME_TOTAL_Z_BY_CHILDREN_GRP-TARGET']"
   ]
  },
  {
   "cell_type": "code",
   "execution_count": null,
   "metadata": {},
   "outputs": [],
   "source": []
  }
 ],
 "metadata": {
  "kernelspec": {
   "display_name": "Python 3",
   "language": "python",
   "name": "python3"
  },
  "language_info": {
   "codemirror_mode": {
    "name": "ipython",
    "version": 3
   },
   "file_extension": ".py",
   "mimetype": "text/x-python",
   "name": "python",
   "nbconvert_exporter": "python",
   "pygments_lexer": "ipython3",
   "version": "3.7.2"
  }
 },
 "nbformat": 4,
 "nbformat_minor": 2
}
